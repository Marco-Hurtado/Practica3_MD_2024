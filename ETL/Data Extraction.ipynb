{
 "cells": [
  {
   "cell_type": "code",
   "execution_count": 1,
   "id": "e0d13d84-646f-4d5a-b455-e4aafc4ff39c",
   "metadata": {
    "execution": {
     "iopub.execute_input": "2024-04-25T15:59:45.182241Z",
     "iopub.status.busy": "2024-04-25T15:59:45.180985Z",
     "iopub.status.idle": "2024-04-25T15:59:46.774892Z",
     "shell.execute_reply": "2024-04-25T15:59:46.772744Z",
     "shell.execute_reply.started": "2024-04-25T15:59:45.182148Z"
    }
   },
   "outputs": [],
   "source": [
    "import pandas as pd\n",
    "import json as js\n",
    "from glob import glob"
   ]
  },
  {
   "cell_type": "code",
   "execution_count": 2,
   "id": "5c8e9dc2-ed60-4960-a162-4ad7df91d114",
   "metadata": {
    "execution": {
     "iopub.execute_input": "2024-04-25T16:00:26.757604Z",
     "iopub.status.busy": "2024-04-25T16:00:26.756559Z",
     "iopub.status.idle": "2024-04-25T16:00:26.772768Z",
     "shell.execute_reply": "2024-04-25T16:00:26.768415Z",
     "shell.execute_reply.started": "2024-04-25T16:00:26.757528Z"
    }
   },
   "outputs": [],
   "source": [
    "ls_files = glob(\"./históricos/*.json\")"
   ]
  },
  {
   "cell_type": "code",
   "execution_count": 42,
   "id": "258be461-99ae-4fc1-88ed-71895f88fae6",
   "metadata": {
    "execution": {
     "iopub.execute_input": "2024-04-25T16:18:53.806384Z",
     "iopub.status.busy": "2024-04-25T16:18:53.805285Z",
     "iopub.status.idle": "2024-04-25T16:18:53.826605Z",
     "shell.execute_reply": "2024-04-25T16:18:53.823415Z",
     "shell.execute_reply.started": "2024-04-25T16:18:53.806290Z"
    }
   },
   "outputs": [
    {
     "data": {
      "text/plain": [
       "['./históricos/meteorología_2020.json',\n",
       " './históricos/meteorología_2015.json',\n",
       " './históricos/meteorología_2017.json',\n",
       " './históricos/meteorología_2016.json',\n",
       " './históricos/meteorología_2023.json',\n",
       " './históricos/meteorología_2014.json',\n",
       " './históricos/meteorología_2013.json',\n",
       " './históricos/meteorología_2022.json',\n",
       " './históricos/meteorología_2019.json',\n",
       " './históricos/meteorología_2018.json',\n",
       " './históricos/meteorología_2021.json']"
      ]
     },
     "execution_count": 42,
     "metadata": {},
     "output_type": "execute_result"
    }
   ],
   "source": [
    "ls_files"
   ]
  },
  {
   "cell_type": "code",
   "execution_count": 31,
   "id": "7fd9a0f4-1fc2-4ced-a17e-5be53678b331",
   "metadata": {
    "execution": {
     "iopub.execute_input": "2024-04-25T16:07:55.932884Z",
     "iopub.status.busy": "2024-04-25T16:07:55.930756Z",
     "iopub.status.idle": "2024-04-25T16:11:14.513004Z",
     "shell.execute_reply": "2024-04-25T16:11:14.512473Z",
     "shell.execute_reply.started": "2024-04-25T16:07:55.932803Z"
    },
    "tags": []
   },
   "outputs": [],
   "source": [
    "ls_data = []\n",
    "for file in ls_files:\n",
    "    with open(file, \"r\") as f:\n",
    "        data = js.load(f)\n",
    "    for fecha in data[\"pollutionMeasurements\"][\"date\"].keys():\n",
    "        for measure in data[\"pollutionMeasurements\"][\"date\"][fecha].keys():\n",
    "            aux = pd.DataFrame(index = data[\"pollutionMeasurements\"][\"date\"][fecha][measure].keys(), data=data[\"pollutionMeasurements\"][\"date\"][fecha][measure].values())\n",
    "            aux[\"fecha\"] = fecha\n",
    "            aux[\"measure\"] = measure\n",
    "            ls_data += [aux]"
   ]
  },
  {
   "cell_type": "code",
   "execution_count": 37,
   "id": "a66f6fdc-3fb2-40f8-a4b3-96f710af23f2",
   "metadata": {
    "execution": {
     "iopub.execute_input": "2024-04-25T16:14:16.885004Z",
     "iopub.status.busy": "2024-04-25T16:14:16.882452Z",
     "iopub.status.idle": "2024-04-25T16:14:37.330106Z",
     "shell.execute_reply": "2024-04-25T16:14:37.329693Z",
     "shell.execute_reply.started": "2024-04-25T16:14:16.884882Z"
    },
    "tags": []
   },
   "outputs": [],
   "source": [
    "df = pd.concat(ls_data).reset_index().rename(columns={0: \"valor\"})"
   ]
  },
  {
   "cell_type": "code",
   "execution_count": 40,
   "id": "b7480c49-ae47-4bf7-b4f6-14cf918426fd",
   "metadata": {
    "execution": {
     "iopub.execute_input": "2024-04-25T16:16:12.741513Z",
     "iopub.status.busy": "2024-04-25T16:16:12.739407Z",
     "iopub.status.idle": "2024-04-25T16:16:12.800033Z",
     "shell.execute_reply": "2024-04-25T16:16:12.797115Z",
     "shell.execute_reply.started": "2024-04-25T16:16:12.741397Z"
    },
    "tags": []
   },
   "outputs": [],
   "source": [
    "df[\"valor\"] = pd.to_numeric(df[\"valor\"], errors=\"coerce\")"
   ]
  },
  {
   "cell_type": "code",
   "execution_count": 41,
   "id": "a453bb33-d880-42f0-ad60-7874187bf559",
   "metadata": {
    "execution": {
     "iopub.execute_input": "2024-04-25T16:16:14.134911Z",
     "iopub.status.busy": "2024-04-25T16:16:14.133073Z",
     "iopub.status.idle": "2024-04-25T16:16:14.174067Z",
     "shell.execute_reply": "2024-04-25T16:16:14.170923Z",
     "shell.execute_reply.started": "2024-04-25T16:16:14.134818Z"
    }
   },
   "outputs": [
    {
     "data": {
      "text/html": [
       "<div>\n",
       "<style scoped>\n",
       "    .dataframe tbody tr th:only-of-type {\n",
       "        vertical-align: middle;\n",
       "    }\n",
       "\n",
       "    .dataframe tbody tr th {\n",
       "        vertical-align: top;\n",
       "    }\n",
       "\n",
       "    .dataframe thead th {\n",
       "        text-align: right;\n",
       "    }\n",
       "</style>\n",
       "<table border=\"1\" class=\"dataframe\">\n",
       "  <thead>\n",
       "    <tr style=\"text-align: right;\">\n",
       "      <th></th>\n",
       "      <th>index</th>\n",
       "      <th>valor</th>\n",
       "      <th>fecha</th>\n",
       "      <th>measure</th>\n",
       "    </tr>\n",
       "  </thead>\n",
       "  <tbody>\n",
       "    <tr>\n",
       "      <th>0</th>\n",
       "      <td>ACO</td>\n",
       "      <td>70.0</td>\n",
       "      <td>2020-01-01 01:00</td>\n",
       "      <td>RH</td>\n",
       "    </tr>\n",
       "    <tr>\n",
       "      <th>1</th>\n",
       "      <td>AJU</td>\n",
       "      <td>NaN</td>\n",
       "      <td>2020-01-01 01:00</td>\n",
       "      <td>RH</td>\n",
       "    </tr>\n",
       "    <tr>\n",
       "      <th>2</th>\n",
       "      <td>MON</td>\n",
       "      <td>65.0</td>\n",
       "      <td>2020-01-01 01:00</td>\n",
       "      <td>RH</td>\n",
       "    </tr>\n",
       "    <tr>\n",
       "      <th>3</th>\n",
       "      <td>CHO</td>\n",
       "      <td>65.0</td>\n",
       "      <td>2020-01-01 01:00</td>\n",
       "      <td>RH</td>\n",
       "    </tr>\n",
       "    <tr>\n",
       "      <th>4</th>\n",
       "      <td>CUA</td>\n",
       "      <td>51.0</td>\n",
       "      <td>2020-01-01 01:00</td>\n",
       "      <td>RH</td>\n",
       "    </tr>\n",
       "    <tr>\n",
       "      <th>...</th>\n",
       "      <td>...</td>\n",
       "      <td>...</td>\n",
       "      <td>...</td>\n",
       "      <td>...</td>\n",
       "    </tr>\n",
       "    <tr>\n",
       "      <th>8924011</th>\n",
       "      <td>GAM</td>\n",
       "      <td>1.1</td>\n",
       "      <td>2021-12-31 24:00</td>\n",
       "      <td>WSP</td>\n",
       "    </tr>\n",
       "    <tr>\n",
       "      <th>8924012</th>\n",
       "      <td>LAA</td>\n",
       "      <td>0.7</td>\n",
       "      <td>2021-12-31 24:00</td>\n",
       "      <td>WSP</td>\n",
       "    </tr>\n",
       "    <tr>\n",
       "      <th>8924013</th>\n",
       "      <td>FAR</td>\n",
       "      <td>1.1</td>\n",
       "      <td>2021-12-31 24:00</td>\n",
       "      <td>WSP</td>\n",
       "    </tr>\n",
       "    <tr>\n",
       "      <th>8924014</th>\n",
       "      <td>SAC</td>\n",
       "      <td>4.3</td>\n",
       "      <td>2021-12-31 24:00</td>\n",
       "      <td>WSP</td>\n",
       "    </tr>\n",
       "    <tr>\n",
       "      <th>8924015</th>\n",
       "      <td>MER</td>\n",
       "      <td>NaN</td>\n",
       "      <td>2021-12-31 24:00</td>\n",
       "      <td>PBa</td>\n",
       "    </tr>\n",
       "  </tbody>\n",
       "</table>\n",
       "<p>8924016 rows × 4 columns</p>\n",
       "</div>"
      ],
      "text/plain": [
       "        index  valor             fecha measure\n",
       "0         ACO   70.0  2020-01-01 01:00      RH\n",
       "1         AJU    NaN  2020-01-01 01:00      RH\n",
       "2         MON   65.0  2020-01-01 01:00      RH\n",
       "3         CHO   65.0  2020-01-01 01:00      RH\n",
       "4         CUA   51.0  2020-01-01 01:00      RH\n",
       "...       ...    ...               ...     ...\n",
       "8924011   GAM    1.1  2021-12-31 24:00     WSP\n",
       "8924012   LAA    0.7  2021-12-31 24:00     WSP\n",
       "8924013   FAR    1.1  2021-12-31 24:00     WSP\n",
       "8924014   SAC    4.3  2021-12-31 24:00     WSP\n",
       "8924015   MER    NaN  2021-12-31 24:00     PBa\n",
       "\n",
       "[8924016 rows x 4 columns]"
      ]
     },
     "execution_count": 41,
     "metadata": {},
     "output_type": "execute_result"
    }
   ],
   "source": [
    "df"
   ]
  },
  {
   "cell_type": "code",
   "execution_count": null,
   "id": "83584ce5-9ef4-4c6e-aeff-e66dc539bbf7",
   "metadata": {},
   "outputs": [],
   "source": []
  }
 ],
 "metadata": {
  "kernelspec": {
   "display_name": "Diplomado",
   "language": "python",
   "name": "myenv"
  },
  "language_info": {
   "codemirror_mode": {
    "name": "ipython",
    "version": 3
   },
   "file_extension": ".py",
   "mimetype": "text/x-python",
   "name": "python",
   "nbconvert_exporter": "python",
   "pygments_lexer": "ipython3",
   "version": "3.10.12"
  }
 },
 "nbformat": 4,
 "nbformat_minor": 5
}
